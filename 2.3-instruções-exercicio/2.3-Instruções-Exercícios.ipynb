{
  "cells": [
    {
      "cell_type": "markdown",
      "metadata": {
        "id": "1pCTdOHonv5f"
      },
      "source": [
        "# Módulo 2\n",
        "\n",
        "## 2.3 Instruções e Expressões\n",
        "\n",
        "### Q1\n",
        "\n",
        "Faça um programa que armazene o valor de 20 reais de salário por hora de um trabalhador, e o número de 40 horas trabalhadas na semana. Com essas informações, calcule e imprima:\n",
        "- Salário semanal bruto\n",
        "- Valor descontado por semana INSS (10% do bruto)\n",
        "- Valor descontado por semana pelo sindicato (5% do bruto)\n",
        "- Salário semanal líquido (Bruto - Descontos)"
      ]
    },
    {
      "cell_type": "code",
      "execution_count": 1,
      "metadata": {
        "id": "hVbX0I97nj6M"
      },
      "outputs": [
        {
          "name": "stdout",
          "output_type": "stream",
          "text": [
            "800\n",
            "646.0\n"
          ]
        }
      ],
      "source": [
        "## Escreva e execute seu código aqui\n",
        "import match\n",
        "salh = 20\n",
        "hrt = 40\n",
        "salario = salh * hrt\n",
        "print(salario)\n",
        "desc = salario*10/100\n",
        "salario = salario - (salario * 15 / 100)\n",
        "aux = salario\n",
        "salario = salario - (salario * 5 / 100)\n",
        "print(salario)\n",
        "\n"
      ]
    },
    {
      "cell_type": "markdown",
      "metadata": {
        "id": "pIxKX9J2oGZ1"
      },
      "source": [
        "### Q2\n",
        "\n",
        "Altere o programa anterior para a partir dos valores de horas trabalhadas por semana e salário por hora, calcular **em somente duas instruções**:\n",
        "- Salário semanal bruto\n",
        "- Salário semanal líquido com todos os descontos. Para a segunda instrução, realize todos os cálculos aritméticos em uma expressão composta.\n"
      ]
    },
    {
      "cell_type": "code",
      "execution_count": null,
      "metadata": {
        "id": "pAHw9Xf9oGoi"
      },
      "outputs": [],
      "source": [
        "## Escreva e execute seu código aqui\n",
        "import match\n",
        "salh = 20\n",
        "hrt = 40\n",
        "salario = salh * hrt\n",
        "print(salario)\n",
        "desc = salario*10/100\n",
        "salario = salario - (salario * 15 / 100)\n",
        "print(salario)"
      ]
    },
    {
      "cell_type": "markdown",
      "metadata": {
        "id": "m8tlHRuWpBOB"
      },
      "source": [
        "### Q3\n",
        "\n",
        "Você está desenvolvendo um software de conversão de moeda e precisa calcular o valor equivalente em yuan chinês a partir de uma quantia em real. A taxa de câmbio é de 0.69 BRL (real) para 1 CNY (yuan). Escreva um programa que define em uma variável uma quantia em reais (BRL) e calcula o valor equivalente em yuan (CNY). Imprima o resultado."
      ]
    },
    {
      "cell_type": "code",
      "execution_count": 2,
      "metadata": {
        "id": "2bPw7uF6oeL9"
      },
      "outputs": [],
      "source": [
        "## Escreva e execute seu código aqui\n",
        "import match\n",
        "vpc = float (input ('Digite um valor em Yuan para ser convertido ')) #entrada do valor para ser convertido\n",
        "brl = 0.69 #variavel do valor de cambio do real\n",
        "cny = 1 #variavel do valor do yuan\n",
        "vpc = brl * vpc #calculo da conversão 5\n",
        "print (vpc) #resultado é impresso na tela"
      ]
    },
    {
      "cell_type": "markdown",
      "metadata": {
        "id": "-Na3ltDCp74A"
      },
      "source": [
        "### Q4\n",
        "\n",
        "Você é um treinador de corrida e deseja calcular a velocidade média que um atleta precisa manter para completar a Maratona Internacional de São Silvestre, que tem uma distância total de 42.195 km. A fórmula para calcular a velocidade média ($v\\_media$) é dada por $v\\_media = \\frac{distancia}{tempo}$ . Escreva um programa em Python para calcular a velocidade média necessária para completar a maratona em 3 horas.\n",
        "\n",
        "**Calcule e imprima o resultado em metros/segundo**, ou seja, converta a distância de quilômetros para metros ($metro = \\frac{km}{1000}$) e a velocidade de horas para segundos $(segundo = \\frac{hora}{3600})$."
      ]
    },
    {
      "cell_type": "code",
      "execution_count": null,
      "metadata": {
        "id": "Bn6l8kcSrE4L"
      },
      "outputs": [],
      "source": [
        "## Escreva e execute seu código aqui\n",
        "dist = 42.195 #distancia\n",
        "temp = 3 #tempo\n",
        "vm = dist / temp #calculando velocidade media\n",
        "print ('A velocidade média é de', vm,'Kmh') #imprimindo velocidade media\n",
        "\n",
        "dist / 1000 #convertendo km em metros\n",
        "print ('A velocidade média é de', dist, 'ms') #imprimindo distancia\n",
        "\n",
        "temp = 3 / 3600 #convertendo velocida por hora para segundos \n",
        "print ('Velocidade média é de', temp, 'por segundo') #imprimindo velocidade por segundo \n"
      ]
    }
  ],
  "metadata": {
    "colab": {
      "provenance": []
    },
    "kernelspec": {
      "display_name": "Python 3",
      "name": "python3"
    },
    "language_info": {
      "codemirror_mode": {
        "name": "ipython",
        "version": 3
      },
      "file_extension": ".py",
      "mimetype": "text/x-python",
      "name": "python",
      "nbconvert_exporter": "python",
      "pygments_lexer": "ipython3",
      "version": "3.12.4"
    }
  },
  "nbformat": 4,
  "nbformat_minor": 0
}
